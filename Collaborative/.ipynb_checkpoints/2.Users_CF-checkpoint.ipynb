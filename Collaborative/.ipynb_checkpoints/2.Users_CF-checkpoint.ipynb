{
 "cells": [
  {
   "cell_type": "code",
   "execution_count": 1,
   "metadata": {},
   "outputs": [],
   "source": [
    "import pandas as pd\n",
    "import numpy as np\n",
    "import pickle\n",
    "\n",
    "#稀疏矩阵，打分表\n",
    "import scipy.io as sio\n",
    "import os\n",
    "\n",
    "#距离\n",
    "import scipy.spatial.distance as ssd"
   ]
  },
  {
   "cell_type": "code",
   "execution_count": 2,
   "metadata": {},
   "outputs": [],
   "source": [
    "#用户和歌曲的索引\n",
    "users_index = pickle.load(open(\"users_index.pkl\", 'rb'))\n",
    "songs_index = pickle.load(open(\"songs_index.pkl\", 'rb'))\n",
    "\n",
    "#训练集上用户的数目和歌曲的数目\n",
    "num_users = len(users_index)\n",
    "num_songs = len(songs_index)\n",
    "\n",
    "#用户听过的歌曲\n",
    "user_song_dict = pickle.load(open('user_song_dict.pkl', 'rb'))\n",
    "#歌曲被听过的用户\n",
    "song_user_dict = pickle.load(open('song_user_dict.pkl', 'rb'))"
   ]
  },
  {
   "cell_type": "code",
   "execution_count": 3,
   "metadata": {},
   "outputs": [],
   "source": [
    "#使用用户的打分\n",
    "user_song_interest = sio.mmread(\"user_song_interest\")#.todense()"
   ]
  },
  {
   "cell_type": "code",
   "execution_count": 4,
   "metadata": {},
   "outputs": [
    {
     "data": {
      "text/plain": [
       "<790x800 sparse matrix of type '<class 'numpy.float64'>'\n",
       "\twith 20104 stored elements in COOrdinate format>"
      ]
     },
     "execution_count": 4,
     "metadata": {},
     "output_type": "execute_result"
    }
   ],
   "source": [
    "user_song_interest"
   ]
  },
  {
   "cell_type": "code",
   "execution_count": 8,
   "metadata": {},
   "outputs": [],
   "source": [
    "#计算用户之间的相似度\n",
    "def users_similarity(uid1, uid2 ):\n",
    "    si={}  #有效歌曲（两个用户均有打分的item）的集合\n",
    "    for song in user_song_dict[uid1]:  #uid1所有听过的歌曲\n",
    "        if song in user_song_dict[uid2]:  #如果uid2也听过改歌曲\n",
    "            si[song] = 1  #song作为一个有效的歌曲\n",
    "        \n",
    "    n=len(si)   #有效歌曲数，有效歌曲为即对uid听过歌曲且uid2也听过\n",
    "    if (n==0):  #没有听过相同的歌曲，则相似度为0\n",
    "        similarity=0.0  \n",
    "        return similarity  \n",
    "        \n",
    "    #用户uid1的有效打分(减去该用户的平均打分)\n",
    "    s1=np.array([user_song_scores[uid1,song] - user_mean_score[uid1] for song in si])  \n",
    "        \n",
    "    #用户uid2的有效打分(减去该用户的平均打分)\n",
    "    s2=np.array([user_song_scores[uid2,song] - user_mean_score[uid2] for song in si])  \n",
    "        \n",
    "    similarity = 1 - ssd.cosine(s1, s2) \n",
    "    \n",
    "    if np.isnan(similarity): #s1或s2的l2模为0（全部等于该用户的平均打分）\n",
    "        similarity = 0.0\n",
    "    return similarity "
   ]
  },
  {
   "cell_type": "code",
   "execution_count": 10,
   "metadata": {},
   "outputs": [
    {
     "name": "stdout",
     "output_type": "stream",
     "text": [
      "ui=0 \n"
     ]
    },
    {
     "name": "stderr",
     "output_type": "stream",
     "text": [
      "D:\\soft\\Anaconda\\lib\\site-packages\\scipy\\spatial\\distance.py:698: RuntimeWarning: invalid value encountered in double_scalars\n",
      "  dist = 1.0 - uv / np.sqrt(uu * vv)\n"
     ]
    },
    {
     "name": "stdout",
     "output_type": "stream",
     "text": [
      "ui=100 \n",
      "ui=200 \n",
      "ui=300 \n",
      "ui=400 \n",
      "ui=500 \n",
      "ui=600 \n",
      "ui=700 \n"
     ]
    }
   ],
   "source": [
    "#计算所有用户之间的相似度\n",
    "users_similarity_matrix = np.matrix(np.zeros(shape=(num_users, num_users)), float)\n",
    "for user_x in range(num_users):\n",
    "    users_similarity_matrix[user_x, user_x] = 1.0\n",
    "    \n",
    "    #打印进度条\n",
    "    if(user_x % 100 == 0):\n",
    "        print (\"ui=%d \" % (user_x))\n",
    "\n",
    "    for user_y in range(user_x+1, num_users):   \n",
    "        users_similarity_matrix[user_y, user_x] = users_similarity(user_x, user_y)\n",
    "        users_similarity_matrix[user_x, user_y] = users_similarity_matrix[user_y, user_x]\n",
    "\n",
    "pickle.dump(users_similarity_matrix, open(\"users_similarity_matrix.pkl\", 'wb')) "
   ]
  },
  {
   "cell_type": "code",
   "execution_count": 11,
   "metadata": {},
   "outputs": [],
   "source": [
    "#测试用户是否会听改歌曲，通过评分来表示\n",
    "def User_CF_pred(user, song): \n",
    "    sim_accumulate=0.0  \n",
    "    rat_acc=0.0 \n",
    "    for user_id in song_user_dict[song]:  #听过改歌曲的所有的用户\n",
    "        #计算当前用户与听过改歌曲的用户之间的相似度\n",
    "        sim = users_similarity_matrix[user_id, user]\n",
    "            \n",
    "        if sim != 0: \n",
    "            rat_acc += sim * (user_song_scores[user_id, song] - user_mean_score[user_id])   #用户user对item i的打分\n",
    "            sim_accumulate += np.abs(sim)  \n",
    "        \n",
    "    if sim_accumulate != 0:  \n",
    "        score = user_mean_score[user] + rat_acc/sim_accumulate\n",
    "    else: #no similar users,return average rates of the user \n",
    "        score = user_mean_score[user]\n",
    "    \n",
    "    return score"
   ]
  },
  {
   "cell_type": "code",
   "execution_count": 12,
   "metadata": {},
   "outputs": [],
   "source": [
    "#根据用户去预测是否会听歌曲\n",
    "#user：user\n",
    "#return: score, song（DataFrame）\n",
    "def recommend(user):\n",
    "    #转换用户标识为ID号\n",
    "    cur_user_id = users_index[user]\n",
    "    \n",
    "    #训练集中该用户听过的歌曲\n",
    "    cur_user_songs = user_song_dict[cur_user_id]\n",
    "\n",
    "    #该用户对所有歌曲的评分情况\n",
    "    user_song_scores_pre = np.zeros(num_songs)\n",
    "\n",
    "    #预测打分\n",
    "    for song in range(num_songs):  # all songs\n",
    "        if song not in cur_user_songs: #训练集中没打过分\n",
    "            user_song_scores_pre[song] = User_CF_pred(cur_user_id, song)  #预测打分\n",
    "    \n",
    "    #推荐\n",
    "    #Sort the indices of user_item_scores based upon their value，Also maintain the corresponding score\n",
    "    sort_index = sorted(((e,i) for i,e in enumerate(list(user_song_scores_pre))), reverse=True)\n",
    "    \n",
    "    #Create a dataframe from the following\n",
    "    columns = ['song', 'score']\n",
    "    df = pd.DataFrame(columns=columns)\n",
    "         \n",
    "    #Fill the dataframe with top 20 (n_rec_items) item based recommendations\n",
    "    #sort_index = sort_index[0:n_rec_items]\n",
    "    #Fill the dataframe with all items based recommendations\n",
    "    for i in range(0,len(sort_index)):\n",
    "        cur_song_index = sort_index[i][1] \n",
    "        cur_song = list (songs_index.keys()) [list (songs_index.values()).index (cur_song_index)]\n",
    "            \n",
    "        if ~np.isnan(sort_index[i][0]) and cur_song_index not in cur_user_songs:\n",
    "            df.loc[len(df)]=[cur_song, sort_index[i][0]]\n",
    "    \n",
    "    return df"
   ]
  },
  {
   "cell_type": "code",
   "execution_count": 13,
   "metadata": {},
   "outputs": [
    {
     "data": {
      "text/html": [
       "<div>\n",
       "<style scoped>\n",
       "    .dataframe tbody tr th:only-of-type {\n",
       "        vertical-align: middle;\n",
       "    }\n",
       "\n",
       "    .dataframe tbody tr th {\n",
       "        vertical-align: top;\n",
       "    }\n",
       "\n",
       "    .dataframe thead th {\n",
       "        text-align: right;\n",
       "    }\n",
       "</style>\n",
       "<table border=\"1\" class=\"dataframe\">\n",
       "  <thead>\n",
       "    <tr style=\"text-align: right;\">\n",
       "      <th></th>\n",
       "      <th>Unnamed: 0</th>\n",
       "      <th>user</th>\n",
       "      <th>song</th>\n",
       "      <th>play_count</th>\n",
       "      <th>score</th>\n",
       "    </tr>\n",
       "  </thead>\n",
       "  <tbody>\n",
       "    <tr>\n",
       "      <th>0</th>\n",
       "      <td>4680</td>\n",
       "      <td>c1912062175dc4b3ea5a3a0cdb963c704bb9c881</td>\n",
       "      <td>SOVDSJC12A58A7A271</td>\n",
       "      <td>45</td>\n",
       "      <td>1</td>\n",
       "    </tr>\n",
       "    <tr>\n",
       "      <th>1</th>\n",
       "      <td>5684</td>\n",
       "      <td>4bcc4cfd9acf7e19bbccd398f8503ba79fb66513</td>\n",
       "      <td>SOAUWYT12A81C206F1</td>\n",
       "      <td>1</td>\n",
       "      <td>1</td>\n",
       "    </tr>\n",
       "    <tr>\n",
       "      <th>2</th>\n",
       "      <td>28695</td>\n",
       "      <td>c1255748c06ee3f6440c51c439446886c7807095</td>\n",
       "      <td>SOWCBKV12AC90732A6</td>\n",
       "      <td>3</td>\n",
       "      <td>1</td>\n",
       "    </tr>\n",
       "    <tr>\n",
       "      <th>3</th>\n",
       "      <td>24268</td>\n",
       "      <td>19d2a7ccba17143f6b0425fc9c62a5f8df8455f7</td>\n",
       "      <td>SOTRQEJ12AF72A45D7</td>\n",
       "      <td>12</td>\n",
       "      <td>1</td>\n",
       "    </tr>\n",
       "    <tr>\n",
       "      <th>4</th>\n",
       "      <td>32824</td>\n",
       "      <td>66abc1ae25dca07b75109164f9dacfe33f9572ba</td>\n",
       "      <td>SONHWUN12AC468C014</td>\n",
       "      <td>1</td>\n",
       "      <td>1</td>\n",
       "    </tr>\n",
       "  </tbody>\n",
       "</table>\n",
       "</div>"
      ],
      "text/plain": [
       "   Unnamed: 0                                      user                song  \\\n",
       "0        4680  c1912062175dc4b3ea5a3a0cdb963c704bb9c881  SOVDSJC12A58A7A271   \n",
       "1        5684  4bcc4cfd9acf7e19bbccd398f8503ba79fb66513  SOAUWYT12A81C206F1   \n",
       "2       28695  c1255748c06ee3f6440c51c439446886c7807095  SOWCBKV12AC90732A6   \n",
       "3       24268  19d2a7ccba17143f6b0425fc9c62a5f8df8455f7  SOTRQEJ12AF72A45D7   \n",
       "4       32824  66abc1ae25dca07b75109164f9dacfe33f9572ba  SONHWUN12AC468C014   \n",
       "\n",
       "   play_count  score  \n",
       "0          45      1  \n",
       "1           1      1  \n",
       "2           3      1  \n",
       "3          12      1  \n",
       "4           1      1  "
      ]
     },
     "execution_count": 13,
     "metadata": {},
     "output_type": "execute_result"
    }
   ],
   "source": [
    "#读取测试数据\n",
    "test_data = pd.read_csv('test_data.csv')\n",
    "test_data.head()"
   ]
  },
  {
   "cell_type": "code",
   "execution_count": 15,
   "metadata": {},
   "outputs": [
    {
     "name": "stdout",
     "output_type": "stream",
     "text": [
      "3b4bb393138bba331e3dde43dfdc05554f05a743 is a new user.\n",
      "\n",
      "6b3d5eaba2e55699cb725d0c605c6eca1b302dfe is a new user.\n",
      "\n",
      "c337bc0346e01c8b0105691b8f970b9a6960a572 is a new user.\n",
      "\n",
      "a3a9329463c55f63876f84b0c47b4f90ca9db7bc is a new user.\n",
      "\n",
      "bb0d8c40d8932c5960e8e4443aa391adb9dfe9da is a new user.\n",
      "\n",
      "precision:0.008803301237964236, recall:0.008534471262835045\n"
     ]
    }
   ],
   "source": [
    "#通过测试数据去测试\n",
    "#统计总的用户\n",
    "unique_users_test = test_data['user'].unique()\n",
    "\n",
    "#为每个用户推荐的歌曲的数目\n",
    "n_rec_songs = 10\n",
    "\n",
    "#性能评价参数初始化，用户计算Percison和Recall\n",
    "n_hits = 0\n",
    "n_total_rec_songs = 0\n",
    "n_test_songs = 0\n",
    "\n",
    "#所有被推荐歌曲的集合（对不同用户），用于计算覆盖度\n",
    "all_rec_songs = set()\n",
    "\n",
    "#对每个测试用户\n",
    "for user in unique_users_test:\n",
    "    #测试集中该用户打过分的电影（用于计算评价指标的真实值）\n",
    "    if user not in users_index:   #user在训练集中没有出现过，新用户不能用协同过滤\n",
    "        print(str(user) + ' is a new user.\\n')\n",
    "        continue\n",
    "   \n",
    "    user_records_test = test_data[test_data.user == user]\n",
    "    \n",
    "    #对每个测试用户，计算该用户对训练集中未出现过的商品的打分，并基于该打分进行推荐（top n_rec_items）\n",
    "    #返回结果为DataFrame\n",
    "    rec_songs = recommend(user)\n",
    "    \n",
    "    for i in range(n_rec_songs):\n",
    "        song = rec_songs.iloc[i]['song']\n",
    "        \n",
    "        if song in user_records_test['song'].values:\n",
    "            n_hits += 1\n",
    "        all_rec_songs.add(song)\n",
    "\n",
    "    \n",
    "    #推荐的item总数\n",
    "    n_total_rec_songs += n_rec_songs\n",
    "    \n",
    "    #真实item的总数\n",
    "    n_test_songs += user_records_test.shape[0]\n",
    "\n",
    "#Precision & Recall\n",
    "precision = n_hits / (1.0*n_total_rec_songs)\n",
    "recall = n_hits / (1.0*n_test_songs)\n",
    "print('precision:{}, recall:{}'.format(precision, recall))"
   ]
  },
  {
   "cell_type": "code",
   "execution_count": null,
   "metadata": {},
   "outputs": [],
   "source": []
  }
 ],
 "metadata": {
  "kernelspec": {
   "display_name": "Python 3",
   "language": "python",
   "name": "python3"
  },
  "language_info": {
   "codemirror_mode": {
    "name": "ipython",
    "version": 3
   },
   "file_extension": ".py",
   "mimetype": "text/x-python",
   "name": "python",
   "nbconvert_exporter": "python",
   "pygments_lexer": "ipython3",
   "version": "3.6.5"
  }
 },
 "nbformat": 4,
 "nbformat_minor": 2
}
