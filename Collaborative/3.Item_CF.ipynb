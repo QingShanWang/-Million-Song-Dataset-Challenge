{
 "cells": [
  {
   "cell_type": "code",
   "execution_count": 13,
   "metadata": {},
   "outputs": [],
   "source": [
    "import pandas as pd\n",
    "import numpy as np\n",
    "import pickle\n",
    "\n",
    "#稀疏矩阵，打分表\n",
    "import scipy.io as sio\n",
    "import os\n",
    "\n",
    "#距离\n",
    "import scipy.spatial.distance as ssd"
   ]
  },
  {
   "cell_type": "code",
   "execution_count": 14,
   "metadata": {},
   "outputs": [],
   "source": [
    "#用户和歌曲的索引\n",
    "users_index = pickle.load(open(\"users_index.pkl\", 'rb'))\n",
    "songs_index = pickle.load(open(\"songs_index.pkl\", 'rb'))\n",
    "\n",
    "#训练集上用户的数目和歌曲的数目\n",
    "num_users = len(users_index)\n",
    "num_songs = len(songs_index)\n",
    "\n",
    "#用户听过的歌曲\n",
    "user_song_dict = pickle.load(open('user_song_dict.pkl', 'rb'))\n",
    "#歌曲被听过的用户\n",
    "song_user_dict = pickle.load(open('song_user_dict.pkl', 'rb'))"
   ]
  },
  {
   "cell_type": "code",
   "execution_count": 15,
   "metadata": {},
   "outputs": [],
   "source": [
    "#使用用户的记录\n",
    "user_song_interest = sio.mmread(\"user_song_interest\")#.todense()\n",
    "user_song_interest = user_song_interest.tocsr()"
   ]
  },
  {
   "cell_type": "code",
   "execution_count": 16,
   "metadata": {},
   "outputs": [],
   "source": [
    "#使用用户的打分\n",
    "user_song_score = sio.mmread(\"user_song_score\")#.todense()\n",
    "user_song_score = user_song_score.tocsr()"
   ]
  },
  {
   "cell_type": "code",
   "execution_count": 32,
   "metadata": {},
   "outputs": [],
   "source": [
    "users_mean = np.zeros(num_users)\n",
    "for u in range(num_users):  \n",
    "    n_user_items = 0\n",
    "    r_acc = 0.0\n",
    "    if len(user_song_dict[u]) == 0:\n",
    "        users_mean[u] = 0\n",
    "        continue\n",
    "    for i in user_song_dict[u]:  #用户打过分的item\n",
    "        r_acc += user_song_score[u,i]\n",
    "        n_user_items += 1\n",
    " \n",
    "    users_mean[u] = r_acc/n_user_items"
   ]
  },
  {
   "cell_type": "code",
   "execution_count": 36,
   "metadata": {},
   "outputs": [
    {
     "name": "stderr",
     "output_type": "stream",
     "text": [
      "D:\\soft\\Anaconda\\lib\\site-packages\\scipy\\spatial\\distance.py:698: RuntimeWarning: invalid value encountered in double_scalars\n",
      "  dist = 1.0 - uv / np.sqrt(uu * vv)\n"
     ]
    },
    {
     "data": {
      "text/plain": [
       "0.0"
      ]
     },
     "execution_count": 36,
     "metadata": {},
     "output_type": "execute_result"
    }
   ],
   "source": [
    "#计算歌曲之间的相似度\n",
    "def songs_similarity(song_x, song_y):\n",
    "    su={}  #有效item（两个用户均有打分的item）的集合\n",
    "    for user in song_user_dict[song_x]:  #对iid1所有打过分的用户\n",
    "        if user in song_user_dict[song_y]:  #如果该用户对iid2也打过分\n",
    "            su[user]=1  #该用户为一个有效user\n",
    "        \n",
    "    n=len(su)   #有效item数，有效item为即对uid对Item打过分，uid2也对Item打过分\n",
    "    if (n==0):  #没有共同打过分的item，相似度设为0？\n",
    "        similarity=0  \n",
    "        return similarity  \n",
    "        \n",
    "    #iid1的有效打分(减去用户的平均打分)\n",
    "    s1=np.array([user_song_score[user,song_x]-users_mean[user] for user in su])\n",
    "        \n",
    "    #iid2的有效打分(减去用户的平均打分)\n",
    "    s2=np.array([user_song_score[user,song_y]-users_mean[user] for user in su])  \n",
    "    \n",
    "    similarity = 1 - ssd.cosine(s1, s2) \n",
    "    if( np.isnan(similarity) ):  #分母为0（s1或s2中所有元素为0）\n",
    "        similarity = 0.0\n",
    "    if similarity != 0.0:\n",
    "        print(similarity)\n",
    "    return similarity \n",
    "songs_similarity(50, 30)"
   ]
  },
  {
   "cell_type": "code",
   "execution_count": 37,
   "metadata": {},
   "outputs": [
    {
     "name": "stdout",
     "output_type": "stream",
     "text": [
      "i=0 \n"
     ]
    },
    {
     "name": "stderr",
     "output_type": "stream",
     "text": [
      "D:\\soft\\Anaconda\\lib\\site-packages\\scipy\\spatial\\distance.py:698: RuntimeWarning: invalid value encountered in double_scalars\n",
      "  dist = 1.0 - uv / np.sqrt(uu * vv)\n"
     ]
    },
    {
     "name": "stdout",
     "output_type": "stream",
     "text": [
      "i=100 \n",
      "i=200 \n",
      "i=300 \n",
      "i=400 \n",
      "i=500 \n",
      "i=600 \n",
      "i=700 \n"
     ]
    }
   ],
   "source": [
    "#计算所有歌曲之间的相似性\n",
    "songs_similarity_matrix = np.matrix(np.zeros(shape=(num_songs, num_songs)), float)\n",
    "\n",
    "for i in range(num_songs):\n",
    "    songs_similarity_matrix[i,i] = 1.0\n",
    "    \n",
    "    #打印进度条\n",
    "    if(i % 100 == 0):\n",
    "        print (\"i=%d \" % (i) )\n",
    "\n",
    "    for j in range(i+1,num_songs):   #items by user \n",
    "        songs_similarity_matrix[j,i] = songs_similarity(i, j)\n",
    "        songs_similarity_matrix[i,j] = songs_similarity_matrix[j,i]\n",
    "\n",
    "pickle.dump(songs_similarity_matrix, open(\"songs_similarity_matrix.pkl\", 'wb')) "
   ]
  },
  {
   "cell_type": "code",
   "execution_count": 52,
   "metadata": {},
   "outputs": [],
   "source": [
    "#对物品进行预测\n",
    "def Item_CF_pred(uid, iid): \n",
    "    sim_accumulate=0.0  \n",
    "    rat_acc=0.0 \n",
    "    \n",
    "    for item_id in user_song_dict[uid]:  #对用户打过分的item\n",
    "        #计算当前用户打过分item与其他item之间的相似度\n",
    "        #sim = item_similarity(item_id, iid)\n",
    "        sim = songs_similarity_matrix[item_id, iid]\n",
    "        \n",
    "        #由于相似性可能为负，而用户打过分的item又不多（与iid不相似的item占多数）预测打分为负\n",
    "        if sim != 0: \n",
    "            rat_acc += sim * (user_song_score[uid, item_id])   #用户user对item i的打分\n",
    "            sim_accumulate += np.abs(sim)                 \n",
    "        \n",
    "    if sim_accumulate != 0: #no same user rated,return average rates of the data  \n",
    "        score = rat_acc/sim_accumulate\n",
    "    else:   #no items the same user rated,return average rates of the user  \n",
    "        score = users_mean[uid]\n",
    "    \n",
    "    if score <0:\n",
    "        score = 0.0\n",
    "    \n",
    "    return score"
   ]
  },
  {
   "cell_type": "code",
   "execution_count": 54,
   "metadata": {},
   "outputs": [],
   "source": [
    "#对用户进行推荐\n",
    "def recommend(user):\n",
    "    cur_user_id = users_index[user]\n",
    "    \n",
    "    #训练集中该用户打过分的item\n",
    "    cur_user_items = user_song_dict[cur_user_id]\n",
    "\n",
    "    #该用户对所有item的打分\n",
    "    user_items_scores = np.zeros(num_songs)\n",
    "\n",
    "    #预测打分\n",
    "    for i in range(num_songs):  # all items \n",
    "        if i not in cur_user_items: #训练集中没打过分\n",
    "            user_items_scores[i] = Item_CF_pred(cur_user_id, i)  #预测打分\n",
    "    \n",
    "    #推荐\n",
    "    #Sort the indices of user_item_scores based upon their value，Also maintain the corresponding score\n",
    "    sort_index = sorted(((e,i) for i,e in enumerate(list(user_items_scores))), reverse=True)\n",
    "    \n",
    "    #Create a dataframe from the following\n",
    "    columns = ['item', 'score']\n",
    "    df = pd.DataFrame(columns=columns)\n",
    "         \n",
    "    #Fill the dataframe with top 20 (n_rec_items) item based recommendations\n",
    "    #sort_index = sort_index[0:n_rec_items]\n",
    "    #Fill the dataframe with all items based recommendations\n",
    "    for i in range(0,len(sort_index)):\n",
    "        cur_item_index = sort_index[i][1] \n",
    "        cur_item = list (songs_index.keys()) [list (songs_index.values()).index (cur_item_index)]\n",
    "            \n",
    "        if ~np.isnan(sort_index[i][0]) and cur_item_index not in cur_user_items:\n",
    "            df.loc[len(df)]=[cur_item, sort_index[i][0]]\n",
    "    \n",
    "    return df"
   ]
  },
  {
   "cell_type": "code",
   "execution_count": 43,
   "metadata": {},
   "outputs": [
    {
     "data": {
      "text/html": [
       "<div>\n",
       "<style scoped>\n",
       "    .dataframe tbody tr th:only-of-type {\n",
       "        vertical-align: middle;\n",
       "    }\n",
       "\n",
       "    .dataframe tbody tr th {\n",
       "        vertical-align: top;\n",
       "    }\n",
       "\n",
       "    .dataframe thead th {\n",
       "        text-align: right;\n",
       "    }\n",
       "</style>\n",
       "<table border=\"1\" class=\"dataframe\">\n",
       "  <thead>\n",
       "    <tr style=\"text-align: right;\">\n",
       "      <th></th>\n",
       "      <th>Unnamed: 0</th>\n",
       "      <th>user</th>\n",
       "      <th>song</th>\n",
       "      <th>play_count</th>\n",
       "      <th>interest</th>\n",
       "      <th>score</th>\n",
       "    </tr>\n",
       "  </thead>\n",
       "  <tbody>\n",
       "    <tr>\n",
       "      <th>0</th>\n",
       "      <td>28439</td>\n",
       "      <td>f8181f9b3d85fa4ac04c66bc9f84f0ad2a18a777</td>\n",
       "      <td>SOPUELG12A6701D215</td>\n",
       "      <td>4</td>\n",
       "      <td>1</td>\n",
       "      <td>1</td>\n",
       "    </tr>\n",
       "    <tr>\n",
       "      <th>1</th>\n",
       "      <td>20964</td>\n",
       "      <td>6bfaf522b9bfb59370d8adfa7f6093579502d775</td>\n",
       "      <td>SOVVENS12A8C144DB5</td>\n",
       "      <td>17</td>\n",
       "      <td>1</td>\n",
       "      <td>1</td>\n",
       "    </tr>\n",
       "    <tr>\n",
       "      <th>2</th>\n",
       "      <td>27315</td>\n",
       "      <td>002b63a7e2247de6d62bc62f253474edc7dd044c</td>\n",
       "      <td>SOMCMKG12A8C1347BF</td>\n",
       "      <td>6</td>\n",
       "      <td>1</td>\n",
       "      <td>1</td>\n",
       "    </tr>\n",
       "    <tr>\n",
       "      <th>3</th>\n",
       "      <td>12408</td>\n",
       "      <td>fe9a05c03c29da973743a83b80d1660748077432</td>\n",
       "      <td>SOMDVSL12A6D4F7230</td>\n",
       "      <td>8</td>\n",
       "      <td>1</td>\n",
       "      <td>1</td>\n",
       "    </tr>\n",
       "    <tr>\n",
       "      <th>4</th>\n",
       "      <td>2749</td>\n",
       "      <td>1820cfffd52cad7b3af398f379524d51579655d2</td>\n",
       "      <td>SOWIMTL12A8C1386DC</td>\n",
       "      <td>1</td>\n",
       "      <td>0</td>\n",
       "      <td>1</td>\n",
       "    </tr>\n",
       "  </tbody>\n",
       "</table>\n",
       "</div>"
      ],
      "text/plain": [
       "   Unnamed: 0                                      user                song  \\\n",
       "0       28439  f8181f9b3d85fa4ac04c66bc9f84f0ad2a18a777  SOPUELG12A6701D215   \n",
       "1       20964  6bfaf522b9bfb59370d8adfa7f6093579502d775  SOVVENS12A8C144DB5   \n",
       "2       27315  002b63a7e2247de6d62bc62f253474edc7dd044c  SOMCMKG12A8C1347BF   \n",
       "3       12408  fe9a05c03c29da973743a83b80d1660748077432  SOMDVSL12A6D4F7230   \n",
       "4        2749  1820cfffd52cad7b3af398f379524d51579655d2  SOWIMTL12A8C1386DC   \n",
       "\n",
       "   play_count  interest  score  \n",
       "0           4         1      1  \n",
       "1          17         1      1  \n",
       "2           6         1      1  \n",
       "3           8         1      1  \n",
       "4           1         0      1  "
      ]
     },
     "execution_count": 43,
     "metadata": {},
     "output_type": "execute_result"
    }
   ],
   "source": [
    "#读取测试数据\n",
    "test_data = pd.read_csv('test_data.csv')\n",
    "test_data.head()"
   ]
  },
  {
   "cell_type": "code",
   "execution_count": 57,
   "metadata": {},
   "outputs": [
    {
     "name": "stdout",
     "output_type": "stream",
     "text": [
      "b1054cf00f4b3d2b7fc1548b19e423a50639c22f is a new user.\n",
      "\n",
      "bb0d8c40d8932c5960e8e4443aa391adb9dfe9da is a new user.\n",
      "\n",
      "de27b74444dae039f76e421362c6a914da9f8b41 is a new user.\n",
      "\n",
      "precision:0.004347826086956522, recall:0.004266097853619517\n"
     ]
    }
   ],
   "source": [
    "#统计总的用户\n",
    "unique_users_test = test_data['user'].unique()\n",
    "\n",
    "#为每个用户推荐的item的数目\n",
    "n_rec_items = 10\n",
    "\n",
    "#性能评价参数初始化，用户计算Percison和Recall\n",
    "n_hits = 0\n",
    "n_total_rec_items = 0\n",
    "n_test_items = 0\n",
    "\n",
    "#所有被推荐商品的集合（对不同用户），用于计算覆盖度\n",
    "all_rec_items = set()\n",
    "\n",
    "#残差平方和，用与计算RMSE\n",
    "rss_test = 0.0\n",
    "\n",
    "#对每个测试用户\n",
    "for user in unique_users_test:\n",
    "    #测试集中该用户打过分的电影（用于计算评价指标的真实值）\n",
    "    if user not in users_index:   #user在训练集中没有出现过，新用户不能用协同过滤\n",
    "        print(str(user) + ' is a new user.\\n')\n",
    "        continue\n",
    "   \n",
    "    user_records_test= test_data[test_data.user == user]\n",
    "    \n",
    "    #对每个测试用户，计算该用户对训练集中未出现过的商品的打分，并基于该打分进行推荐（top n_rec_items）\n",
    "    #返回结果为DataFrame\n",
    "    rec_items = recommend(user)\n",
    "    \n",
    "    for i in range(n_rec_items):\n",
    "        item = rec_items.iloc[i]['item']\n",
    "        \n",
    "        if item in user_records_test['song'].values:\n",
    "            n_hits += 1\n",
    "        all_rec_items.add(item)\n",
    "    \n",
    "    #推荐的item总数\n",
    "    n_total_rec_items += n_rec_items\n",
    "    \n",
    "    #真实item的总数\n",
    "    n_test_items += user_records_test.shape[0]\n",
    "\n",
    "#Precision & Recall\n",
    "precision = n_hits / (1.0*n_total_rec_items)\n",
    "recall = n_hits / (1.0*n_test_items)\n",
    "print('precision:{}, recall:{}'.format(precision, recall))"
   ]
  }
 ],
 "metadata": {
  "kernelspec": {
   "display_name": "Python 3",
   "language": "python",
   "name": "python3"
  },
  "language_info": {
   "codemirror_mode": {
    "name": "ipython",
    "version": 3
   },
   "file_extension": ".py",
   "mimetype": "text/x-python",
   "name": "python",
   "nbconvert_exporter": "python",
   "pygments_lexer": "ipython3",
   "version": "3.6.5"
  }
 },
 "nbformat": 4,
 "nbformat_minor": 2
}
